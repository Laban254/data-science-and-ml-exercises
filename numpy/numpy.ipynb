{
 "cells": [
  {
   "cell_type": "code",
   "execution_count": 40,
   "metadata": {},
   "outputs": [],
   "source": [
    "# imports\n",
    "import numpy as np\n",
    "import pandas as pd\n",
    "import matplotlib.pyplot as plt\n",
    "from scipy import stats\n",
    "import seaborn as sns\n",
    "from sklearn.linear_model import LinearRegression"
   ]
  },
  {
   "cell_type": "markdown",
   "metadata": {},
   "source": [
    "### 1. Multi-dimensional Arrays (ndarray)\n",
    "NumPy introduces the `ndarray` object, which is a powerful multi-dimensional array.\n",
    "\n",
    "It allows you to store and manipulate large datasets efficiently.\n",
    "\n",
    "You can create an ndarray using `np.array()` and by passing lists or tuples."
   ]
  },
  {
   "cell_type": "code",
   "execution_count": 41,
   "metadata": {},
   "outputs": [
    {
     "name": "stdout",
     "output_type": "stream",
     "text": [
      "1D Array: [1 2 3 4 5]\n",
      "2D Array:\n",
      " [[1 2]\n",
      " [3 4]\n",
      " [5 6]]\n",
      "3D Array:\n",
      " [[[1 2]\n",
      "  [3 4]]\n",
      "\n",
      " [[5 6]\n",
      "  [7 8]]]\n"
     ]
    }
   ],
   "source": [
    "# Creating a 1D array (vector)\n",
    "arr_1d = np.array([1, 2, 3, 4, 5])\n",
    "print(\"1D Array:\", arr_1d)\n",
    "\n",
    "# Creating a 2D array (matrix)\n",
    "arr_2d = np.array([[1, 2], [3, 4], [5, 6]])\n",
    "print(\"2D Array:\\n\", arr_2d)\n",
    "\n",
    "# Creating a 3D array\n",
    "arr_3d = np.array([[[1, 2], [3, 4]], [[5, 6], [7, 8]]])\n",
    "print(\"3D Array:\\n\", arr_3d)"
   ]
  },
  {
   "cell_type": "code",
   "execution_count": 42,
   "metadata": {},
   "outputs": [
    {
     "name": "stdout",
     "output_type": "stream",
     "text": [
      "Shape of arr_1d: (5,)\n",
      "Shape of arr_2d: (3, 2)\n",
      "Shape of arr_3d: (2, 2, 2)\n",
      "Size of arr_2d: 6\n",
      "Number of dimensions of arr_3d: 3\n"
     ]
    }
   ],
   "source": [
    "# 2. Checking the shape, size, and number of dimensions\n",
    "print(\"Shape of arr_1d:\", arr_1d.shape)  # Output: (5,)\n",
    "print(\"Shape of arr_2d:\", arr_2d.shape)  # Output: (3, 2)\n",
    "print(\"Shape of arr_3d:\", arr_3d.shape)  # Output: (2, 2, 2)\n",
    "\n",
    "print(\"Size of arr_2d:\", arr_2d.size)  # Output: 6\n",
    "print(\"Number of dimensions of arr_3d:\", arr_3d.ndim)  # Output: 3"
   ]
  },
  {
   "cell_type": "code",
   "execution_count": 43,
   "metadata": {},
   "outputs": [
    {
     "name": "stdout",
     "output_type": "stream",
     "text": [
      "Reshaped arr_2d:\n",
      " [[1 2 3]\n",
      " [4 5 6]]\n"
     ]
    }
   ],
   "source": [
    "# 3. Reshaping Arrays\n",
    "reshaped_arr = arr_2d.reshape(2, 3)  # Reshape a 3x2 array into 2x3 array\n",
    "print(\"Reshaped arr_2d:\\n\", reshaped_arr)"
   ]
  },
  {
   "cell_type": "code",
   "execution_count": 44,
   "metadata": {},
   "outputs": [
    {
     "name": "stdout",
     "output_type": "stream",
     "text": [
      "Array of Zeros:\n",
      " [[0. 0. 0.]\n",
      " [0. 0. 0.]\n",
      " [0. 0. 0.]]\n",
      "Array of Ones:\n",
      " [[1. 1. 1. 1.]\n",
      " [1. 1. 1. 1.]]\n",
      "Array of Full Values:\n",
      " [[7 7]\n",
      " [7 7]]\n",
      "Array with Arange: [0 2 4 6 8]\n"
     ]
    }
   ],
   "source": [
    "# 4. Creating Arrays Using NumPy Functions\n",
    "zeros_array = np.zeros((3, 3))  # Create a 3x3 array filled with zeros\n",
    "print(\"Array of Zeros:\\n\", zeros_array)\n",
    "\n",
    "ones_array = np.ones((2, 4))  # Create a 2x4 array filled with ones\n",
    "print(\"Array of Ones:\\n\", ones_array)\n",
    "\n",
    "full_array = np.full((2, 2), 7)  # Create a 2x2 array filled with the number 7\n",
    "print(\"Array of Full Values:\\n\", full_array)\n",
    "\n",
    "# Create an array with a range of numbers (arange)\n",
    "range_array = np.arange(0, 10, 2)  # Numbers from 0 to 10 with a step of 2\n",
    "print(\"Array with Arange:\", range_array)"
   ]
  },
  {
   "cell_type": "code",
   "execution_count": 45,
   "metadata": {},
   "outputs": [
    {
     "name": "stdout",
     "output_type": "stream",
     "text": [
      "Element at (1, 1) in arr_2d: 4\n",
      "First row of arr_2d: [1 2]\n",
      "All rows, first column: [1 3 5]\n",
      "First 2D matrix in arr_3d:\n",
      " [[1 2]\n",
      " [3 4]]\n",
      "Element at (0, 1, 1) in arr_3d: 4\n"
     ]
    }
   ],
   "source": [
    "# 5. Indexing and Slicing Multi-dimensional Arrays\n",
    "# Indexing and slicing a 2D array (matrix)\n",
    "print(\"Element at (1, 1) in arr_2d:\", arr_2d[1, 1])  # Access element at row 1, col 1\n",
    "print(\"First row of arr_2d:\", arr_2d[0])  # Access first row\n",
    "print(\"All rows, first column:\", arr_2d[:, 0])  # Access first column of all rows\n",
    "\n",
    "# Indexing and slicing a 3D array\n",
    "print(\"First 2D matrix in arr_3d:\\n\", arr_3d[0])  # Access first 2D slice in 3D array\n",
    "print(\"Element at (0, 1, 1) in arr_3d:\", arr_3d[0, 1, 1])  # Access element at specific position\n",
    "\n"
   ]
  },
  {
   "cell_type": "markdown",
   "metadata": {},
   "source": [
    "### 2. Element-wise Operations\n",
    "\n",
    "NumPy supports element-wise operations such as addition, subtraction, multiplication, and division.\n",
    "\n",
    "These operations are applied element by element across arrays."
   ]
  },
  {
   "cell_type": "code",
   "execution_count": 46,
   "metadata": {},
   "outputs": [
    {
     "name": "stdout",
     "output_type": "stream",
     "text": [
      "Element-wise Sum: [5 7 9]\n",
      "Element-wise Difference: [-3 -3 -3]\n",
      "Element-wise Product: [ 4 10 18]\n",
      "Element-wise Division: [0.25 0.4  0.5 ]\n"
     ]
    }
   ],
   "source": [
    "# Adding two arrays element-wise\n",
    "arr_1 = np.array([1, 2, 3])\n",
    "arr_2 = np.array([4, 5, 6])\n",
    "sum_arr = arr_1 + arr_2\n",
    "print(\"Element-wise Sum:\", sum_arr)\n",
    "\n",
    "# Subtracting two arrays element-wise\n",
    "difference_arr = arr_1 - arr_2\n",
    "print(\"Element-wise Difference:\", difference_arr)\n",
    "\n",
    "# Multiplying two arrays element-wise\n",
    "product_arr = arr_1 * arr_2\n",
    "print(\"Element-wise Product:\", product_arr)\n",
    "\n",
    "# Dividing two arrays element-wise\n",
    "division_arr = arr_1 / arr_2\n",
    "print(\"Element-wise Division:\", division_arr)"
   ]
  },
  {
   "cell_type": "code",
   "execution_count": 47,
   "metadata": {},
   "outputs": [
    {
     "name": "stdout",
     "output_type": "stream",
     "text": [
      "Sine of Array: [0.84147098 0.90929743 0.14112001]\n",
      "Element-wise Squared Array: [1 4 9]\n",
      "Element-wise Square Root: [1.         1.41421356 1.73205081]\n",
      "Broadcasted Sum (arr_1 + arr_3): [11 12 13]\n"
     ]
    }
   ],
   "source": [
    "# Applying a mathematical operation (e.g., sine function)\n",
    "sin_arr = np.sin(arr_1)\n",
    "print(\"Sine of Array:\", sin_arr)\n",
    "\n",
    "# Exponentiation: Element-wise power operation\n",
    "power_arr = np.power(arr_1, 2)\n",
    "print(\"Element-wise Squared Array:\", power_arr)\n",
    "\n",
    "# Square Root: Element-wise square root operation\n",
    "sqrt_arr = np.sqrt(arr_1)\n",
    "print(\"Element-wise Square Root:\", sqrt_arr)\n",
    "\n",
    "# Broadcasting example\n",
    "arr_3 = np.array([10])\n",
    "broadcasted_sum = arr_1 + arr_3\n",
    "print(\"Broadcasted Sum (arr_1 + arr_3):\", broadcasted_sum)\n",
    "\n"
   ]
  },
  {
   "cell_type": "markdown",
   "metadata": {},
   "source": [
    "### 3. Broadcasting\n",
    "Broadcasting allows NumPy to perform operations on arrays of different shapes. \n",
    "\n",
    "The smaller array is \"broadcast\" over the larger array to match their shapes."
   ]
  },
  {
   "cell_type": "code",
   "execution_count": 48,
   "metadata": {},
   "outputs": [
    {
     "name": "stdout",
     "output_type": "stream",
     "text": [
      "Array after Broadcasting Addition: [ 6  7  8  9 10]\n"
     ]
    }
   ],
   "source": [
    "# Adding a scalar to an array (broadcasting a scalar)\n",
    "arr = np.array([1, 2, 3, 4, 5])\n",
    "broadcasted_sum = arr + 5\n",
    "print(\"Array after Broadcasting Addition:\", broadcasted_sum)"
   ]
  },
  {
   "cell_type": "code",
   "execution_count": 49,
   "metadata": {},
   "outputs": [
    {
     "name": "stdout",
     "output_type": "stream",
     "text": [
      "Broadcasted Array Addition:\n",
      " [[2 3 4]\n",
      " [3 4 5]\n",
      " [4 5 6]]\n"
     ]
    }
   ],
   "source": [
    "# Broadcasting smaller array over a larger one\n",
    "arr_1 = np.array([1, 2, 3])\n",
    "arr_2 = np.array([[1], [2], [3]])\n",
    "broadcasted_sum_2 = arr_1 + arr_2\n",
    "print(\"Broadcasted Array Addition:\\n\", broadcasted_sum_2)"
   ]
  },
  {
   "cell_type": "code",
   "execution_count": 50,
   "metadata": {},
   "outputs": [
    {
     "name": "stdout",
     "output_type": "stream",
     "text": [
      "Broadcasted Array Addition with Different Dimensions:\n",
      " [[11 12 13]\n",
      " [21 22 23]\n",
      " [31 32 33]]\n"
     ]
    }
   ],
   "source": [
    "\n",
    "# Broadcasting with different dimensions\n",
    "arr_3 = np.array([1, 2, 3])  # 1D array (shape: (3,))\n",
    "arr_4 = np.array([[10], [20], [30]])  # 2D array (shape: (3, 1))\n",
    "broadcasted_sum_3 = arr_3 + arr_4\n",
    "print(\"Broadcasted Array Addition with Different Dimensions:\\n\", broadcasted_sum_3)"
   ]
  },
  {
   "cell_type": "code",
   "execution_count": 51,
   "metadata": {},
   "outputs": [
    {
     "name": "stdout",
     "output_type": "stream",
     "text": [
      "Broadcasted Array Addition with 2D and 1D:\n",
      " [[11 22 33]\n",
      " [14 25 36]]\n"
     ]
    }
   ],
   "source": [
    "# Broadcasting in more complex cases (2D and 1D arrays)\n",
    "arr_5 = np.array([[1, 2, 3], [4, 5, 6]])\n",
    "arr_6 = np.array([10, 20, 30])\n",
    "broadcasted_sum_4 = arr_5 + arr_6\n",
    "print(\"Broadcasted Array Addition with 2D and 1D:\\n\", broadcasted_sum_4)"
   ]
  },
  {
   "cell_type": "code",
   "execution_count": 52,
   "metadata": {},
   "outputs": [
    {
     "name": "stdout",
     "output_type": "stream",
     "text": [
      "Error while broadcasting: operands could not be broadcast together with shapes (3,) (2,) \n",
      "Broadcasted Addition After Reshaping:\n",
      " [[11 21 31]\n",
      " [12 22 32]\n",
      " [13 23 33]]\n"
     ]
    }
   ],
   "source": [
    "\n",
    "# Broadcasting with incompatible shapes (will raise an error)\n",
    "arr_7 = np.array([1, 2, 3])\n",
    "arr_8 = np.array([1, 2])  # Incompatible shape\n",
    "try:\n",
    "    broadcasted_sum_5 = arr_7 + arr_8\n",
    "except ValueError as e:\n",
    "    print(\"Error while broadcasting:\", e)\n",
    "\n",
    "# Example of broadcasting with different shapes using `reshape`\n",
    "arr_9 = np.array([1, 2, 3])  # 1D array (shape: (3,))\n",
    "arr_10 = np.array([10, 20, 30])  # 1D array (shape: (3,))\n",
    "arr_9_reshaped = arr_9.reshape(3, 1)  # Reshape arr_9 to (3, 1)\n",
    "broadcasted_sum_6 = arr_9_reshaped + arr_10\n",
    "print(\"Broadcasted Addition After Reshaping:\\n\", broadcasted_sum_6)\n"
   ]
  },
  {
   "cell_type": "markdown",
   "metadata": {},
   "source": [
    "### 4. Linear Algebra Functions\n",
    "NumPy provides a set of functions for linear algebra tasks such as matrix multiplication, solving linear equations, \n",
    "determinants, eigenvalues, and matrix inverses."
   ]
  },
  {
   "cell_type": "code",
   "execution_count": 53,
   "metadata": {},
   "outputs": [
    {
     "name": "stdout",
     "output_type": "stream",
     "text": [
      "Matrix Multiplication (Dot Product):\n",
      " [[19 22]\n",
      " [43 50]]\n",
      "Element-wise Matrix Multiplication (Hadamard Product):\n",
      " [[ 5 12]\n",
      " [21 32]]\n",
      "Determinant of Matrix: -2.0000000000000004\n"
     ]
    }
   ],
   "source": [
    "# Matrix multiplication (dot product)\n",
    "matrix_1 = np.array([[1, 2], [3, 4]])\n",
    "matrix_2 = np.array([[5, 6], [7, 8]])\n",
    "product = np.dot(matrix_1, matrix_2)\n",
    "print(\"Matrix Multiplication (Dot Product):\\n\", product)\n",
    "\n",
    "# Element-wise matrix multiplication (Hadamard product)\n",
    "elementwise_product = matrix_1 * matrix_2  # Same shape\n",
    "print(\"Element-wise Matrix Multiplication (Hadamard Product):\\n\", elementwise_product)\n",
    "\n",
    "# Finding the determinant of a matrix\n",
    "determinant = np.linalg.det(matrix_1)\n",
    "print(\"Determinant of Matrix:\", determinant)"
   ]
  },
  {
   "cell_type": "code",
   "execution_count": 54,
   "metadata": {},
   "outputs": [
    {
     "name": "stdout",
     "output_type": "stream",
     "text": [
      "Solution to the Linear Equations: [2. 3.]\n",
      "Inverse of Matrix:\n",
      " [[-2.   1. ]\n",
      " [ 1.5 -0.5]]\n",
      "Eigenvalues of Matrix: [-0.37228132  5.37228132]\n",
      "Eigenvectors of Matrix:\n",
      " [[-0.82456484 -0.41597356]\n",
      " [ 0.56576746 -0.90937671]]\n"
     ]
    }
   ],
   "source": [
    "# Solving linear equations (Ax = b)\n",
    "# Example: 3x + y = 9, x + 2y = 8\n",
    "A = np.array([[3, 1], [1, 2]])\n",
    "b = np.array([9, 8])\n",
    "solution = np.linalg.solve(A, b)\n",
    "print(\"Solution to the Linear Equations:\", solution)\n",
    "\n",
    "# Finding the inverse of a matrix (if determinant is non-zero)\n",
    "if determinant != 0:\n",
    "    matrix_inverse = np.linalg.inv(matrix_1)\n",
    "    print(\"Inverse of Matrix:\\n\", matrix_inverse)\n",
    "else:\n",
    "    print(\"Matrix is singular, no inverse exists.\")\n",
    "\n",
    "# Eigenvalues and eigenvectors of a matrix\n",
    "eigenvalues, eigenvectors = np.linalg.eig(matrix_1)\n",
    "print(\"Eigenvalues of Matrix:\", eigenvalues)\n",
    "print(\"Eigenvectors of Matrix:\\n\", eigenvectors)"
   ]
  },
  {
   "cell_type": "code",
   "execution_count": 55,
   "metadata": {},
   "outputs": [
    {
     "name": "stdout",
     "output_type": "stream",
     "text": [
      "Singular Value Decomposition:\n",
      "U:\n",
      " [[-0.40455358 -0.9145143 ]\n",
      " [-0.9145143   0.40455358]]\n",
      "S: [5.4649857  0.36596619]\n",
      "Vt:\n",
      " [[-0.57604844 -0.81741556]\n",
      " [ 0.81741556 -0.57604844]]\n",
      "Trace of Matrix: 5\n",
      "Is the Matrix Symmetric? False\n"
     ]
    }
   ],
   "source": [
    "\n",
    "\n",
    "# Singular Value Decomposition (SVD)\n",
    "U, S, Vt = np.linalg.svd(matrix_1)\n",
    "print(\"Singular Value Decomposition:\")\n",
    "print(\"U:\\n\", U)\n",
    "print(\"S:\", S)\n",
    "print(\"Vt:\\n\", Vt)\n",
    "\n",
    "# Matrix trace (sum of diagonal elements)\n",
    "trace = np.trace(matrix_1)\n",
    "print(\"Trace of Matrix:\", trace)\n",
    "\n",
    "# Checking if a matrix is symmetric\n",
    "is_symmetric = np.allclose(matrix_1, matrix_1.T)\n",
    "print(\"Is the Matrix Symmetric?\", is_symmetric)\n",
    "\n"
   ]
  },
  {
   "cell_type": "markdown",
   "metadata": {},
   "source": [
    "\n",
    "### 5. Statistical Operations\n",
    "NumPy provides a set of functions to perform statistical analysis like mean, median, variance, standard deviation,\n",
    "percentiles, and more.\n"
   ]
  },
  {
   "cell_type": "code",
   "execution_count": 56,
   "metadata": {},
   "outputs": [
    {
     "name": "stdout",
     "output_type": "stream",
     "text": [
      "Mean of Array: 3.0\n",
      "Median of Array: 3.0\n",
      "Standard Deviation of Array: 1.4142135623730951\n",
      "Variance of Array: 2.0\n",
      "Percentiles (25th, 50th, 75th): [2. 3. 4.]\n"
     ]
    }
   ],
   "source": [
    "# Calculating the mean of an array\n",
    "arr = np.array([1, 2, 3, 4, 5])\n",
    "mean = np.mean(arr)\n",
    "print(\"Mean of Array:\", mean)\n",
    "\n",
    "# Calculating the median of an array\n",
    "median = np.median(arr)\n",
    "print(\"Median of Array:\", median)\n",
    "\n",
    "# Calculating the standard deviation of an array\n",
    "std_dev = np.std(arr)\n",
    "print(\"Standard Deviation of Array:\", std_dev)\n",
    "\n",
    "# Calculating the variance of an array\n",
    "variance = np.var(arr)\n",
    "print(\"Variance of Array:\", variance)\n",
    "\n",
    "# Calculating the percentiles of an array (25th, 50th, and 75th percentiles)\n",
    "percentiles = np.percentile(arr, [25, 50, 75])\n",
    "print(\"Percentiles (25th, 50th, 75th):\", percentiles)"
   ]
  },
  {
   "cell_type": "code",
   "execution_count": 57,
   "metadata": {},
   "outputs": [
    {
     "name": "stdout",
     "output_type": "stream",
     "text": [
      "Mean across axis 0 (columns): [4. 5. 6.]\n",
      "Mean across axis 1 (rows): [2. 5. 8.]\n",
      "Median across axis 0 (columns): [4. 5. 6.]\n",
      "Median across axis 1 (rows): [2. 5. 8.]\n",
      "Standard deviation across axis 0 (columns): [2.44948974 2.44948974 2.44948974]\n",
      "Standard deviation across axis 1 (rows): [0.81649658 0.81649658 0.81649658]\n"
     ]
    }
   ],
   "source": [
    "# Working with multidimensional arrays\n",
    "arr_2d = np.array([[1, 2, 3], [4, 5, 6], [7, 8, 9]])\n",
    "\n",
    "# Mean across different axes\n",
    "mean_axis_0 = np.mean(arr_2d, axis=0)  # Mean of each column\n",
    "mean_axis_1 = np.mean(arr_2d, axis=1)  # Mean of each row\n",
    "print(\"Mean across axis 0 (columns):\", mean_axis_0)\n",
    "print(\"Mean across axis 1 (rows):\", mean_axis_1)\n",
    "\n",
    "# Median across different axes\n",
    "median_axis_0 = np.median(arr_2d, axis=0)\n",
    "median_axis_1 = np.median(arr_2d, axis=1)\n",
    "print(\"Median across axis 0 (columns):\", median_axis_0)\n",
    "print(\"Median across axis 1 (rows):\", median_axis_1)\n",
    "\n",
    "# Standard deviation across different axes\n",
    "std_dev_axis_0 = np.std(arr_2d, axis=0)\n",
    "std_dev_axis_1 = np.std(arr_2d, axis=1)\n",
    "print(\"Standard deviation across axis 0 (columns):\", std_dev_axis_0)\n",
    "print(\"Standard deviation across axis 1 (rows):\", std_dev_axis_1)"
   ]
  },
  {
   "cell_type": "code",
   "execution_count": 58,
   "metadata": {},
   "outputs": [
    {
     "name": "stdout",
     "output_type": "stream",
     "text": [
      "Mean of Empty Array: nan\n",
      "Weighted Mean of Array: 3.0\n",
      "Correlation Coefficient Matrix:\n",
      " [[ 1. -1.]\n",
      " [-1.  1.]]\n"
     ]
    },
    {
     "name": "stderr",
     "output_type": "stream",
     "text": [
      "/home/kibe/projects/ml/data-science-and-ml-exercises/numpy/.env/lib/python3.10/site-packages/numpy/_core/fromnumeric.py:3904: RuntimeWarning: Mean of empty slice.\n",
      "  return _methods._mean(a, axis=axis, dtype=dtype,\n",
      "/home/kibe/projects/ml/data-science-and-ml-exercises/numpy/.env/lib/python3.10/site-packages/numpy/_core/_methods.py:147: RuntimeWarning: invalid value encountered in scalar divide\n",
      "  ret = ret.dtype.type(ret / rcount)\n"
     ]
    }
   ],
   "source": [
    "\n",
    "# Handling edge cases: empty array\n",
    "empty_arr = np.array([])\n",
    "try:\n",
    "    mean_empty = np.mean(empty_arr)\n",
    "    print(\"Mean of Empty Array:\", mean_empty)\n",
    "except ValueError as e:\n",
    "    print(\"Error with empty array:\", e)\n",
    "\n",
    "# Calculating the weighted mean\n",
    "arr = np.array([1, 2, 3, 4])  # Make sure arr and weights have the same length\n",
    "weights = np.array([0.1, 0.2, 0.3, 0.4])\n",
    "try:\n",
    "    weighted_mean = np.average(arr, weights=weights)\n",
    "    print(\"Weighted Mean of Array:\", weighted_mean)\n",
    "except ValueError as e:\n",
    "    print(\"Error calculating weighted mean:\", e)\n",
    "\n",
    "# Calculating the correlation coefficient matrix\n",
    "arr_1 = np.array([1, 2, 3, 4, 5])\n",
    "arr_2 = np.array([5, 4, 3, 2, 1])\n",
    "correlation_matrix = np.corrcoef(arr_1, arr_2)\n",
    "print(\"Correlation Coefficient Matrix:\\n\", correlation_matrix)\n"
   ]
  },
  {
   "cell_type": "markdown",
   "metadata": {},
   "source": [
    "### 6. Efficient Memory Usage\n",
    "NumPy arrays are more memory-efficient compared to Python lists, especially for large datasets.\n",
    "\n",
    "Additionally, NumPy provides tools to further optimize memory usage through data types and advanced memory management."
   ]
  },
  {
   "cell_type": "code",
   "execution_count": 59,
   "metadata": {},
   "outputs": [
    {
     "name": "stdout",
     "output_type": "stream",
     "text": [
      "Memory usage of list: 8000040 bytes\n",
      "Memory usage of NumPy array: 8000000 bytes\n",
      "Memory usage of NumPy array with int32: 4000000 bytes\n",
      "Sliced array: [2 3 4]\n",
      "Memory usage of original array: 40 bytes\n",
      "Memory usage of sliced array: 24 bytes\n"
     ]
    }
   ],
   "source": [
    "# Checking memory usage of a NumPy array vs Python list\n",
    "large_list = list(range(1000000))\n",
    "large_array = np.array(large_list)\n",
    "\n",
    "print(\"Memory usage of list:\", large_list.__sizeof__(), \"bytes\")\n",
    "print(\"Memory usage of NumPy array:\", large_array.nbytes, \"bytes\")\n",
    "\n",
    "# Demonstrating memory optimization by specifying data types\n",
    "# Using 32-bit integers instead of the default 64-bit\n",
    "large_array_int32 = np.array(large_list, dtype=np.int32)\n",
    "print(\"Memory usage of NumPy array with int32:\", large_array_int32.nbytes, \"bytes\")\n",
    "\n",
    "# Array slicing doesn't copy data, saving memory\n",
    "arr = np.array([1, 2, 3, 4, 5])\n",
    "arr_slice = arr[1:4]\n",
    "print(\"Sliced array:\", arr_slice)\n",
    "print(\"Memory usage of original array:\", arr.nbytes, \"bytes\")\n",
    "print(\"Memory usage of sliced array:\", arr_slice.nbytes, \"bytes\")"
   ]
  },
  {
   "cell_type": "code",
   "execution_count": 60,
   "metadata": {},
   "outputs": [
    {
     "name": "stdout",
     "output_type": "stream",
     "text": [
      "Memory usage of memmap object: 4000000 bytes\n",
      "Shape of broadcasted sum: (1000, 1000)\n",
      "Memory usage after broadcasting: 8000000 bytes\n",
      "Memory usage of 1000x1000 array with dtype float32: 4000000 bytes\n"
     ]
    }
   ],
   "source": [
    "\n",
    "# Using np.memmap for large datasets that don't fit into memory\n",
    "# This creates a memory-mapped file for reading/writing large arrays directly from disk\n",
    "filename = 'large_data.npy'\n",
    "large_data = np.memmap(filename, dtype='float32', mode='w+', shape=(1000000,))\n",
    "\n",
    "# Display the memory usage of memmap object\n",
    "print(\"Memory usage of memmap object:\", large_data.nbytes, \"bytes\")\n",
    "\n",
    "# Broadcasting: broadcasting allows operations on arrays with different shapes without creating a full copy of the data\n",
    "arr1 = np.ones((1000, 1000))\n",
    "arr2 = np.ones((1000, 1))\n",
    "broadcasted_sum = arr1 + arr2  # Broadcasting arr2 across arr1\n",
    "print(\"Shape of broadcasted sum:\", broadcasted_sum.shape)\n",
    "print(\"Memory usage after broadcasting:\", broadcasted_sum.nbytes, \"bytes\")\n",
    "\n",
    "# Example of NumPy's optimized memory usage when handling multidimensional arrays\n",
    "arr_2d = np.ones((1000, 1000), dtype=np.float32)\n",
    "print(\"Memory usage of 1000x1000 array with dtype float32:\", arr_2d.nbytes, \"bytes\")\n"
   ]
  },
  {
   "cell_type": "markdown",
   "metadata": {},
   "source": [
    "### 7. Array Indexing and Slicing\n",
    "NumPy supports advanced indexing and slicing techniques to access and manipulate specific elements of arrays."
   ]
  },
  {
   "cell_type": "code",
   "execution_count": 61,
   "metadata": {},
   "outputs": [
    {
     "name": "stdout",
     "output_type": "stream",
     "text": [
      "Element at index 2: 30\n",
      "Sliced Array: [20 30 40]\n",
      "Selected Elements: [20 40 50]\n",
      "Filtered Elements (greater than 20): [30 40 50]\n"
     ]
    }
   ],
   "source": [
    "# Basic indexing\n",
    "arr = np.array([10, 20, 30, 40, 50])\n",
    "print(\"Element at index 2:\", arr[2])\n",
    "\n",
    "# Slicing to get subarrays\n",
    "sub_arr = arr[1:4]  # Get elements from index 1 to 3\n",
    "print(\"Sliced Array:\", sub_arr)\n",
    "\n",
    "# Advanced indexing (using a list of indices)\n",
    "indices = [1, 3, 4]\n",
    "selected_elements = arr[indices]\n",
    "print(\"Selected Elements:\", selected_elements)\n",
    "\n",
    "# Boolean indexing: Get elements greater than 20\n",
    "arr2 = np.array([10, 20, 30, 40, 50])\n",
    "filtered_elements = arr2[arr2 > 20]\n",
    "print(\"Filtered Elements (greater than 20):\", filtered_elements)"
   ]
  },
  {
   "cell_type": "code",
   "execution_count": 62,
   "metadata": {},
   "outputs": [
    {
     "name": "stdout",
     "output_type": "stream",
     "text": [
      "Fancy Indexing (2D Array): [2 9]\n",
      "Last Element using Negative Indexing: 50\n",
      "Element at Row 1, Column 2: 6\n"
     ]
    }
   ],
   "source": [
    "# Fancy indexing with a 2D array\n",
    "arr_2d = np.array([[1, 2, 3], [4, 5, 6], [7, 8, 9]])\n",
    "# Accessing rows 0 and 2, and columns 1 and 2\n",
    "fancy_indexed = arr_2d[[0, 2], [1, 2]]\n",
    "print(\"Fancy Indexing (2D Array):\", fancy_indexed)\n",
    "\n",
    "# Negative indexing (accessing elements from the end)\n",
    "negative_index = arr[-1]  # Last element\n",
    "print(\"Last Element using Negative Indexing:\", negative_index)\n",
    "\n",
    "# Multidimensional Array Indexing\n",
    "arr_2d = np.array([[1, 2, 3], [4, 5, 6], [7, 8, 9]])\n",
    "# Accessing a specific element: Row 1, Column 2\n",
    "element = arr_2d[1, 2]\n",
    "print(\"Element at Row 1, Column 2:\", element)"
   ]
  },
  {
   "cell_type": "code",
   "execution_count": 63,
   "metadata": {},
   "outputs": [
    {
     "name": "stdout",
     "output_type": "stream",
     "text": [
      "Indices of Elements > 20: (array([2, 3, 4]),)\n",
      "Array after setting values: [ 10  20  99 100  50]\n",
      "Array with Step of 2: [10 99 50]\n"
     ]
    }
   ],
   "source": [
    "\n",
    "\n",
    "# Indexing with np.where() to find indices where condition is met\n",
    "indices_where = np.where(arr2 > 20)\n",
    "print(\"Indices of Elements > 20:\", indices_where)\n",
    "\n",
    "# Setting values using indexing\n",
    "arr[2:4] = [99, 100]  # Modify elements at index 2 and 3\n",
    "print(\"Array after setting values:\", arr)\n",
    "\n",
    "# Using a slice with a step\n",
    "arr_with_step = arr[::2]  # Get every other element\n",
    "print(\"Array with Step of 2:\", arr_with_step)\n"
   ]
  },
  {
   "cell_type": "markdown",
   "metadata": {},
   "source": [
    "### 8. Mathematical Functions\n",
    "NumPy provides various built-in functions for mathematical operations such as trigonometry, logarithms, and more."
   ]
  },
  {
   "cell_type": "code",
   "execution_count": 64,
   "metadata": {},
   "outputs": [
    {
     "name": "stdout",
     "output_type": "stream",
     "text": [
      "Cosine of Array: [ 1.0000000e+00  6.1232340e-17 -1.0000000e+00 -1.8369702e-16\n",
      "  1.0000000e+00]\n",
      "Logarithm of Array (for positive values): [0.45158271 1.14472989 1.55019499 1.83787707]\n",
      "Exponential of Array: [  1.           4.81047738  23.14069263 111.31777849 535.49165552]\n",
      "Hyperbolic Sine of Array: [  0.           2.3012989   11.54873936  55.6543976  267.74489404]\n",
      "Hyperbolic Cosine of Array: [  1.           2.50917848  11.59195328  55.66338089 267.74676148]\n"
     ]
    }
   ],
   "source": [
    "# Trigonometric functions\n",
    "arr = np.array([0, np.pi/2, np.pi, 3*np.pi/2, 2*np.pi])\n",
    "cos_arr = np.cos(arr)\n",
    "print(\"Cosine of Array:\", cos_arr)\n",
    "\n",
    "# Logarithmic functions\n",
    "log_arr = np.log(arr[arr > 0])  # Log is undefined for zero or negative numbers\n",
    "print(\"Logarithm of Array (for positive values):\", log_arr)\n",
    "\n",
    "# Exponential function\n",
    "exp_arr = np.exp(arr)\n",
    "print(\"Exponential of Array:\", exp_arr)\n",
    "\n",
    "# Hyperbolic functions\n",
    "sinh_arr = np.sinh(arr)\n",
    "cosh_arr = np.cosh(arr)\n",
    "print(\"Hyperbolic Sine of Array:\", sinh_arr)\n",
    "print(\"Hyperbolic Cosine of Array:\", cosh_arr)"
   ]
  },
  {
   "cell_type": "code",
   "execution_count": 65,
   "metadata": {},
   "outputs": [
    {
     "name": "stdout",
     "output_type": "stream",
     "text": [
      "Array raised to the power of 2: [ 0.         2.4674011  9.8696044 22.2066099 39.4784176]\n",
      "Square root of Array: [0.         1.25331414 1.77245385 2.17080376 2.50662827]\n",
      "Cube root of Array: [0.         1.16244735 1.46459189 1.67653919 1.84527015]\n",
      "Rounded Array: [0.   1.57 3.14 4.71 6.28]\n",
      "Floor of Array: [0. 1. 3. 4. 6.]\n",
      "Ceil of Array: [0. 2. 4. 5. 7.]\n"
     ]
    }
   ],
   "source": [
    "# Power and Root functions\n",
    "arr_pow = np.power(arr, 2)  # Squaring each element\n",
    "print(\"Array raised to the power of 2:\", arr_pow)\n",
    "\n",
    "arr_sqrt = np.sqrt(arr[arr >= 0])  # Square root of each element (only non-negative values)\n",
    "print(\"Square root of Array:\", arr_sqrt)\n",
    "\n",
    "arr_cbrt = np.cbrt(arr)  # Cube root of each element\n",
    "print(\"Cube root of Array:\", arr_cbrt)\n",
    "\n",
    "# Rounding Functions\n",
    "arr_rounded = np.round(arr, decimals=2)  # Round to 2 decimal places\n",
    "arr_floor = np.floor(arr)  # Round down to nearest integer\n",
    "arr_ceil = np.ceil(arr)  # Round up to nearest integer\n",
    "print(\"Rounded Array:\", arr_rounded)\n",
    "print(\"Floor of Array:\", arr_floor)\n",
    "print(\"Ceil of Array:\", arr_ceil)"
   ]
  },
  {
   "cell_type": "code",
   "execution_count": 66,
   "metadata": {},
   "outputs": [
    {
     "name": "stdout",
     "output_type": "stream",
     "text": [
      "Inverse Sine of Array: [0.]\n",
      "Inverse Cosine of Array: [1.57079633]\n",
      "Element-wise Modulus of Array with 2: [0.         1.57079633 1.14159265 0.71238898 0.28318531]\n",
      "Sum of Array: 15.707963267948966\n",
      "Product of Array: 0.0\n",
      "Real part of Complex Array: [1. 3. 5.]\n",
      "Imaginary part of Complex Array: [2. 4. 6.]\n"
     ]
    }
   ],
   "source": [
    "# Trigonometric Inverses\n",
    "arcsin_arr = np.arcsin(arr[(arr >= -1) & (arr <= 1)])  # Inverse sine (within valid range)\n",
    "arccos_arr = np.arccos(arr[(arr >= -1) & (arr <= 1)])  # Inverse cosine (within valid range)\n",
    "print(\"Inverse Sine of Array:\", arcsin_arr)\n",
    "print(\"Inverse Cosine of Array:\", arccos_arr)\n",
    "\n",
    "# Element-wise modulus\n",
    "arr_mod = np.fmod(arr, 2)  # Element-wise modulus with 2\n",
    "print(\"Element-wise Modulus of Array with 2:\", arr_mod)\n",
    "\n",
    "# Aggregating Mathematical Functions\n",
    "arr_sum = np.sum(arr)  # Sum of elements\n",
    "arr_prod = np.prod(arr)  # Product of elements\n",
    "print(\"Sum of Array:\", arr_sum)\n",
    "print(\"Product of Array:\", arr_prod)\n",
    "\n",
    "# Handling Complex Numbers (Example for complex arrays)\n",
    "arr_complex = np.array([1+2j, 3+4j, 5+6j])\n",
    "real_part = np.real(arr_complex)  # Real part of complex numbers\n",
    "imaginary_part = np.imag(arr_complex)  # Imaginary part of complex numbers\n",
    "print(\"Real part of Complex Array:\", real_part)\n",
    "print(\"Imaginary part of Complex Array:\", imaginary_part)\n"
   ]
  },
  {
   "cell_type": "markdown",
   "metadata": {},
   "source": [
    "### 9. Random Number Generation\n",
    "NumPy has a module called `numpy.random` for generating random numbers, sampling, and performing random-related operations."
   ]
  },
  {
   "cell_type": "code",
   "execution_count": 67,
   "metadata": {},
   "outputs": [
    {
     "name": "stdout",
     "output_type": "stream",
     "text": [
      "Random Integers: [7 7 9 5 6]\n",
      "Random Floats: [0.9173711  0.23193154 0.00344991 0.94064104 0.77268616]\n",
      "Random Sampled Array: [30 40 50]\n",
      "Random Integers with Seed: [6 3 7 4 6]\n"
     ]
    }
   ],
   "source": [
    "import numpy as np\n",
    "\n",
    "# Generating random integers\n",
    "random_integers = np.random.randint(0, 10, size=5)\n",
    "print(\"Random Integers:\", random_integers)\n",
    "\n",
    "# Generating random floats between 0 and 1\n",
    "random_floats = np.random.random(size=5)\n",
    "print(\"Random Floats:\", random_floats)\n",
    "\n",
    "# Random sampling from a given array (without replacement)\n",
    "arr = np.array([10, 20, 30, 40, 50])\n",
    "sampled_arr = np.random.choice(arr, size=3, replace=False)\n",
    "print(\"Random Sampled Array:\", sampled_arr)\n",
    "\n",
    "# Setting a random seed for reproducibility\n",
    "np.random.seed(42)\n",
    "random_integers_seeded = np.random.randint(0, 10, size=5)\n",
    "print(\"Random Integers with Seed:\", random_integers_seeded)"
   ]
  },
  {
   "cell_type": "code",
   "execution_count": 68,
   "metadata": {},
   "outputs": [
    {
     "name": "stdout",
     "output_type": "stream",
     "text": [
      "Random Numbers from Normal Distribution: [-0.91682684 -0.12414718 -2.01096289 -0.49280342  0.39257975]\n",
      "Random Permutation of Array: [10 30 40 20 50]\n",
      "Random Sampled Array with Weights: [10 50 40]\n"
     ]
    }
   ],
   "source": [
    "\n",
    "\n",
    "# Generating random numbers from a normal distribution (mean=0, std=1)\n",
    "normal_dist = np.random.normal(loc=0, scale=1, size=5)\n",
    "print(\"Random Numbers from Normal Distribution:\", normal_dist)\n",
    "\n",
    "# Random permutation of elements in an array\n",
    "arr_permutation = np.random.permutation(arr)\n",
    "print(\"Random Permutation of Array:\", arr_permutation)\n",
    "\n",
    "# Random sampling with weights (probability distribution)\n",
    "arr = np.array([10, 20, 30, 40, 50])  # Array should have 5 elements\n",
    "probabilities = [0.1, 0.3, 0.2, 0.2, 0.2]  # Adjust probabilities to match the length of arr\n",
    "weighted_sampled_arr = np.random.choice(arr, size=3, replace=False, p=probabilities)\n",
    "print(\"Random Sampled Array with Weights:\", weighted_sampled_arr)\n",
    "\n",
    "\n",
    "# Random sample from a 2D array (choosing rows)\n",
    "# arr_2d = np.array([[1, 2], [3, 4], [5, 6]])\n",
    "# sampled_rows = np.random.choice(arr_2d, size=2, replace=False)\n",
    "# print(\"Random Sampled Rows from 2D Array:\", sampled_rows)\n"
   ]
  },
  {
   "cell_type": "markdown",
   "metadata": {},
   "source": [
    "### 10. Integration with Other Libraries\n",
    "NumPy integrates well with libraries like SciPy, pandas, and matplotlib, serving as a foundation for more advanced analysis."
   ]
  },
  {
   "cell_type": "code",
   "execution_count": 69,
   "metadata": {},
   "outputs": [
    {
     "name": "stdout",
     "output_type": "stream",
     "text": [
      "Pandas DataFrame:\n",
      "    Column1  Column2\n",
      "0        1        4\n",
      "1        2        5\n",
      "2        3        6\n"
     ]
    }
   ],
   "source": [
    "# 1. Creating a pandas DataFrame using NumPy arrays\n",
    "data = {'Column1': np.array([1, 2, 3]), 'Column2': np.array([4, 5, 6])}\n",
    "df = pd.DataFrame(data)\n",
    "print(\"Pandas DataFrame:\\n\", df)"
   ]
  },
  {
   "cell_type": "code",
   "execution_count": 70,
   "metadata": {},
   "outputs": [
    {
     "data": {
      "image/png": "[encoded data removed]",
      "text/plain": [
       "<Figure size 640x480 with 1 Axes>"
      ]
     },
     "metadata": {},
     "output_type": "display_data"
    }
   ],
   "source": [
    "# 2. Plotting data using matplotlib\n",
    "plt.plot(arr, np.sin(arr))\n",
    "plt.title(\"Sine Wave\")\n",
    "plt.xlabel(\"X\")\n",
    "plt.ylabel(\"sin(X)\")\n",
    "plt.show()"
   ]
  },
  {
   "cell_type": "code",
   "execution_count": 71,
   "metadata": {},
   "outputs": [
    {
     "name": "stdout",
     "output_type": "stream",
     "text": [
      "Z-scores of Array: [-1.41421356 -0.70710678  0.          0.70710678  1.41421356]\n"
     ]
    }
   ],
   "source": [
    "# 3. Using SciPy for statistical functions with NumPy arrays\n",
    "# Example: Calculate the z-score of an array\n",
    "z_scores = stats.zscore(arr)\n",
    "print(\"Z-scores of Array:\", z_scores)"
   ]
  },
  {
   "cell_type": "code",
   "execution_count": 72,
   "metadata": {},
   "outputs": [
    {
     "name": "stdout",
     "output_type": "stream",
     "text": [
      "Predictions using Linear Regression: [1. 2. 3. 4. 5.]\n"
     ]
    }
   ],
   "source": [
    "# 4. Using scikit-learn for linear regression with NumPy arrays\n",
    "# Example: Linear regression with numpy arrays\n",
    "X = np.array([[1], [2], [3], [4], [5]])  # Feature (independent variable)\n",
    "y = np.array([1, 2, 3, 4, 5])  # Target (dependent variable)\n",
    "\n",
    "# Fit a linear regression model\n",
    "model = LinearRegression()\n",
    "model.fit(X, y)\n",
    "\n",
    "# Predict values\n",
    "predictions = model.predict(X)\n",
    "print(\"Predictions using Linear Regression:\", predictions)"
   ]
  },
  {
   "cell_type": "code",
   "execution_count": 73,
   "metadata": {},
   "outputs": [
    {
     "data": {
      "image/png": "[encoded data removed]",
      "text/plain": [
       "<Figure size 500x500 with 6 Axes>"
      ]
     },
     "metadata": {},
     "output_type": "display_data"
    }
   ],
   "source": [
    "# 5. Advanced data visualization with Seaborn (integrating with NumPy)\n",
    "# Plotting a pairplot to visualize relationships in the data\n",
    "sns.pairplot(df)\n",
    "plt.show()\n"
   ]
  },
  {
   "cell_type": "markdown",
   "metadata": {},
   "source": [
    "### 11. Type-specific Arrays\n",
    "NumPy supports arrays with specific data types, which allows fine control over memory usage and precision."
   ]
  },
  {
   "cell_type": "code",
   "execution_count": 74,
   "metadata": {},
   "outputs": [
    {
     "name": "stdout",
     "output_type": "stream",
     "text": [
      "Array with float64 dtype: [1.1 2.2 3.3]\n",
      "Dtype of the array: float64\n",
      "Array with int32 dtype: [1 2 3]\n",
      "Array with uint8 dtype: [1 2 3]\n",
      "Array with complex128 dtype: [1.+2.j 3.+4.j 5.+6.j]\n"
     ]
    }
   ],
   "source": [
    "# 1. Creating an array with specific dtype (float64)\n",
    "float_arr = np.array([1.1, 2.2, 3.3], dtype=np.float64)\n",
    "print(\"Array with float64 dtype:\", float_arr)\n",
    "\n",
    "# 2. Checking the dtype of an array\n",
    "print(\"Dtype of the array:\", float_arr.dtype)\n",
    "\n",
    "# 3. Creating an array with a specific integer dtype (int32)\n",
    "int_arr = np.array([1, 2, 3], dtype=np.int32)\n",
    "print(\"Array with int32 dtype:\", int_arr)\n",
    "\n",
    "# 4. Creating an array with unsigned integer dtype (uint8)\n",
    "uint_arr = np.array([1, 2, 3], dtype=np.uint8)\n",
    "print(\"Array with uint8 dtype:\", uint_arr)\n",
    "\n",
    "# 5. Creating an array with complex number dtype\n",
    "complex_arr = np.array([1+2j, 3+4j, 5+6j], dtype=np.complex128)\n",
    "print(\"Array with complex128 dtype:\", complex_arr)"
   ]
  },
  {
   "cell_type": "code",
   "execution_count": 75,
   "metadata": {},
   "outputs": [
    {
     "name": "stdout",
     "output_type": "stream",
     "text": [
      "Array casted to int32 dtype: [1 2 3]\n",
      "Memory usage of int64 array: 24 bytes\n",
      "Memory usage of int32 array: 12 bytes\n",
      "Structured Array:\n",
      " [(1, 'Alice', 25) (2, 'Bob', 30)]\n"
     ]
    }
   ],
   "source": [
    "# 6. Casting an array to a different dtype\n",
    "casted_arr = float_arr.astype(np.int32)\n",
    "print(\"Array casted to int32 dtype:\", casted_arr)\n",
    "\n",
    "# 7. Impact of dtype on memory usage\n",
    "# Creating an array with int64 vs int32 to compare memory usage\n",
    "arr_int64 = np.array([1, 2, 3], dtype=np.int64)\n",
    "arr_int32 = np.array([1, 2, 3], dtype=np.int32)\n",
    "print(\"Memory usage of int64 array:\", arr_int64.nbytes, \"bytes\")\n",
    "print(\"Memory usage of int32 array:\", arr_int32.nbytes, \"bytes\")\n",
    "\n",
    "# 8. Structured array (heterogeneous data types)\n",
    "structured_arr = np.array([(1, 'Alice', 25), (2, 'Bob', 30)], dtype=[('id', 'i4'), ('name', 'U10'), ('age', 'i4')])\n",
    "print(\"Structured Array:\\n\", structured_arr)\n"
   ]
  },
  {
   "cell_type": "markdown",
   "metadata": {},
   "source": [
    "### 12. Fast Execution\n",
    "NumPy operations are implemented in C, which makes them much faster than native Python list operations.\n",
    "\n",
    "In addition, NumPy utilizes vectorized operations, which avoid the need for explicit loops in Python and allow for more efficient memory use and execution.\n"
   ]
  },
  {
   "cell_type": "code",
   "execution_count": 76,
   "metadata": {},
   "outputs": [
    {
     "name": "stdout",
     "output_type": "stream",
     "text": [
      "Time taken by NumPy: 0.0012080669403076172\n",
      "Time taken by Python: 0.41260480880737305\n"
     ]
    }
   ],
   "source": [
    "# Comparing performance of NumPy and native Python for large array operations\n",
    "import time\n",
    "\n",
    "large_arr_1 = np.random.rand(1000000)\n",
    "large_arr_2 = np.random.rand(1000000)\n",
    "\n",
    "# NumPy operation: Dot product (vectorized)\n",
    "start_time = time.time()\n",
    "np.dot(large_arr_1, large_arr_2)\n",
    "numpy_time = time.time() - start_time\n",
    "\n",
    "# Python operation: Dot product (using loops)\n",
    "start_time = time.time()\n",
    "sum([large_arr_1[i] * large_arr_2[i] for i in range(1000000)])\n",
    "python_time = time.time() - start_time\n",
    "\n",
    "print(\"Time taken by NumPy:\", numpy_time)\n",
    "print(\"Time taken by Python:\", python_time)"
   ]
  },
  {
   "cell_type": "code",
   "execution_count": 77,
   "metadata": {},
   "outputs": [
    {
     "name": "stdout",
     "output_type": "stream",
     "text": [
      "Element-wise multiplication time (NumPy): 0.00388336181640625\n",
      "Element-wise multiplication time (Python): 0.2700624465942383\n"
     ]
    }
   ],
   "source": [
    "# Additional examples of fast execution\n",
    "\n",
    "# Element-wise multiplication (NumPy vs Python)\n",
    "start_time = time.time()\n",
    "np.multiply(large_arr_1, large_arr_2)\n",
    "numpy_time_mult = time.time() - start_time\n",
    "\n",
    "start_time = time.time()\n",
    "[large_arr_1[i] * large_arr_2[i] for i in range(1000000)]\n",
    "python_time_mult = time.time() - start_time\n",
    "\n",
    "print(\"Element-wise multiplication time (NumPy):\", numpy_time_mult)\n",
    "print(\"Element-wise multiplication time (Python):\", python_time_mult)"
   ]
  },
  {
   "cell_type": "code",
   "execution_count": null,
   "metadata": {},
   "outputs": [],
   "source": [
    "# Matrix multiplication (NumPy vs Python)\n",
    "matrix_1 = np.random.rand(1000, 1000)\n",
    "matrix_2 = np.random.rand(1000, 1000)\n",
    "\n",
    "# NumPy matrix multiplication\n",
    "start_time = time.time()\n",
    "np.matmul(matrix_1, matrix_2)\n",
    "numpy_matrix_time = time.time() - start_time\n",
    "\n",
    "# Python matrix multiplication using nested loops\n",
    "start_time = time.time()\n",
    "result = [[sum(matrix_1[i][k] * matrix_2[k][j] for k in range(1000)) for j in range(1000)] for i in range(1000)]\n",
    "python_matrix_time = time.time() - start_time\n",
    "\n",
    "print(\"Matrix multiplication time (NumPy):\", numpy_matrix_time)\n",
    "print(\"Matrix multiplication time (Python):\", python_matrix_time)"
   ]
  },
  {
   "cell_type": "code",
   "execution_count": 79,
   "metadata": {},
   "outputs": [
    {
     "name": "stdout",
     "output_type": "stream",
     "text": [
      "Sorting time (NumPy): 0.029277324676513672\n",
      "Sorting time (Python): 0.8217287063598633\n"
     ]
    }
   ],
   "source": [
    "# Sorting (NumPy vs Python)\n",
    "arr = np.random.rand(1000000)\n",
    "\n",
    "# NumPy sort\n",
    "start_time = time.time()\n",
    "np.sort(arr)\n",
    "numpy_sort_time = time.time() - start_time\n",
    "\n",
    "# Python sort (using built-in sort function)\n",
    "start_time = time.time()\n",
    "sorted(arr)\n",
    "python_sort_time = time.time() - start_time\n",
    "\n",
    "print(\"Sorting time (NumPy):\", numpy_sort_time)\n",
    "print(\"Sorting time (Python):\", python_sort_time)\n"
   ]
  },
  {
   "cell_type": "markdown",
   "metadata": {},
   "source": [
    "### 13. Memory Views\n",
    "NumPy allows creating views of arrays without copying data, improving memory efficiency. \n",
    "\n",
    "This can be helpful when working with large arrays, as it allows modifications to a subset of data without duplicating the entire array."
   ]
  },
  {
   "cell_type": "code",
   "execution_count": 80,
   "metadata": {},
   "outputs": [
    {
     "name": "stdout",
     "output_type": "stream",
     "text": [
      "Original Array: [10 20 30 40 50]\n",
      "View of Array: [10 20 30]\n",
      "Modified Original Array: [100  20  30  40  50]\n",
      "Copy of Array: [100  20  30]\n"
     ]
    }
   ],
   "source": [
    "# Creating a view of an array using slicing\n",
    "arr = np.array([10, 20, 30, 40, 50])\n",
    "view_arr = arr[:3]  # view of the first 3 elements\n",
    "print(\"Original Array:\", arr)\n",
    "print(\"View of Array:\", view_arr)\n",
    "\n",
    "# Modifying the view modifies the original array\n",
    "view_arr[0] = 100\n",
    "print(\"Modified Original Array:\", arr)\n",
    "\n",
    "# Creating a copy of an array (to avoid modifying the original)\n",
    "copy_arr = arr[:3].copy()  # creates a copy of the first 3 elements\n",
    "print(\"Copy of Array:\", copy_arr)"
   ]
  },
  {
   "cell_type": "code",
   "execution_count": 81,
   "metadata": {},
   "outputs": [
    {
     "name": "stdout",
     "output_type": "stream",
     "text": [
      "Original Array after modifying copy: [100  20  30  40  50]\n",
      "Modified Copy Array: [200  20  30]\n",
      "Reshaped Array:\n",
      " [[100]\n",
      " [ 20]\n",
      " [ 30]\n",
      " [ 40]\n",
      " [ 50]]\n",
      "Original Array after reshaping and modifying: [300  20  30  40  50]\n"
     ]
    }
   ],
   "source": [
    "# Modifying the copy does not affect the original array\n",
    "copy_arr[0] = 200\n",
    "print(\"Original Array after modifying copy:\", arr)\n",
    "print(\"Modified Copy Array:\", copy_arr)\n",
    "\n",
    "# Using reshaping to create a view (reshaping does not copy data)\n",
    "arr_reshaped = arr.reshape((5, 1))  # reshaped version of the array\n",
    "print(\"Reshaped Array:\\n\", arr_reshaped)\n",
    "\n",
    "# Modifying the reshaped array will affect the original array\n",
    "arr_reshaped[0] = 300\n",
    "print(\"Original Array after reshaping and modifying:\", arr)"
   ]
  },
  {
   "cell_type": "code",
   "execution_count": 82,
   "metadata": {},
   "outputs": [
    {
     "name": "stdout",
     "output_type": "stream",
     "text": [
      "Array with Advanced Indexing: [300  30  50]\n",
      "Original Array after modifying advanced index view: [300  20  30  40  50]\n"
     ]
    }
   ],
   "source": [
    "# Using advanced indexing to create a view\n",
    "indices = [0, 2, 4]\n",
    "view_indices = arr[indices]\n",
    "print(\"Array with Advanced Indexing:\", view_indices)\n",
    "\n",
    "# Modifying the indexed array modifies the original array\n",
    "view_indices[0] = 400\n",
    "print(\"Original Array after modifying advanced index view:\", arr)\n"
   ]
  }
 ],
 "metadata": {
  "kernelspec": {
   "display_name": ".env",
   "language": "python",
   "name": "python3"
  },
  "language_info": {
   "codemirror_mode": {
    "name": "ipython",
    "version": 3
   },
   "file_extension": ".py",
   "mimetype": "text/x-python",
   "name": "python",
   "nbconvert_exporter": "python",
   "pygments_lexer": "ipython3",
   "version": "3.10.12"
  }
 },
 "nbformat": 4,
 "nbformat_minor": 2
}
