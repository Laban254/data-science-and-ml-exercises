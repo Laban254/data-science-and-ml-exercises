{
 "cells": [
  {
   "cell_type": "markdown",
   "metadata": {},
   "source": [
    "### Pandas Data Structures\n",
    "\n",
    "Pandas offers two primary data structures:\n",
    "\n",
    "     - Series: A one-dimensional labeled array.\n",
    "\n",
    "     - DataFrame: A two-dimensional labeled data structure."
   ]
  },
  {
   "cell_type": "code",
   "execution_count": 10,
   "metadata": {},
   "outputs": [
    {
     "name": "stdout",
     "output_type": "stream",
     "text": [
      "Series:\n",
      " 0    10\n",
      "1    20\n",
      "2    30\n",
      "3    40\n",
      "dtype: int64\n",
      "\n",
      "DataFrame:\n",
      "       Name  Age\n",
      "0    Alice   25\n",
      "1      Bob   30\n",
      "2  Charlie   35\n"
     ]
    }
   ],
   "source": [
    "\n",
    "import pandas as pd\n",
    "\n",
    "# Series example: One-dimensional\n",
    "series = pd.Series([10, 20, 30, 40], index=['0', '1', '2', '3'])\n",
    "print(\"Series:\\n\", series)\n",
    "\n",
    "# DataFrame example: Two-dimensional\n",
    "data = {'Name': ['Alice', 'Bob', 'Charlie'], 'Age': [25, 30, 35]}\n",
    "df = pd.DataFrame(data)\n",
    "print(\"\\nDataFrame:\\n\", df)\n"
   ]
  },
  {
   "cell_type": "markdown",
   "metadata": {},
   "source": [
    "### Data Cleaning with Pandas\n",
    "\n",
    "Data cleaning involves handling missing values, removing duplicates, and ensuring data consistency.\n",
    "\n",
    "Handling Missing Data\n",
    "\n",
    "Pandas provides methods to handle missing data (NaN values)."
   ]
  },
  {
   "cell_type": "code",
   "execution_count": 11,
   "metadata": {},
   "outputs": [
    {
     "name": "stdout",
     "output_type": "stream",
     "text": [
      "Filled Missing Values:\n",
      "       Name      Age\n",
      "0    Alice     25.0\n",
      "1      Bob  Unknown\n",
      "2  Unknown     30.0\n",
      "\n",
      "Dropped Rows with Missing Values:\n",
      "     Name   Age\n",
      "0  Alice  25.0\n"
     ]
    }
   ],
   "source": [
    "data_with_na = {'Name': ['Alice', 'Bob', None], 'Age': [25, None, 30]}\n",
    "df_na = pd.DataFrame(data_with_na)\n",
    "\n",
    "# Filling missing values with a default value\n",
    "df_filled = df_na.fillna('Unknown')\n",
    "print(\"Filled Missing Values:\\n\", df_filled)\n",
    "\n",
    "# Dropping rows with missing values\n",
    "df_dropped = df_na.dropna()\n",
    "print(\"\\nDropped Rows with Missing Values:\\n\", df_dropped)\n"
   ]
  },
  {
   "cell_type": "markdown",
   "metadata": {},
   "source": [
    "Removing Duplicates"
   ]
  },
  {
   "cell_type": "code",
   "execution_count": 12,
   "metadata": {},
   "outputs": [
    {
     "name": "stdout",
     "output_type": "stream",
     "text": [
      "\n",
      "DataFrame without Duplicates:\n",
      "     Name  Age\n",
      "0  Alice   25\n",
      "1    Bob   30\n"
     ]
    }
   ],
   "source": [
    "df_duplicates = pd.DataFrame({\n",
    "    'Name': ['Alice', 'Bob', 'Alice'],\n",
    "    'Age': [25, 30, 25]\n",
    "})\n",
    "df_no_duplicates = df_duplicates.drop_duplicates()\n",
    "print(\"\\nDataFrame without Duplicates:\\n\", df_no_duplicates)\n"
   ]
  },
  {
   "cell_type": "markdown",
   "metadata": {},
   "source": [
    "### Data Transformation in Pandas\n",
    "\n",
    "Data transformation involves modifying, adding, and renaming columns or rows.\n",
    "\n",
    "Adding and Modifying Columns"
   ]
  },
  {
   "cell_type": "code",
   "execution_count": 13,
   "metadata": {},
   "outputs": [
    {
     "name": "stdout",
     "output_type": "stream",
     "text": [
      "\n",
      "DataFrame after Adding Column:\n",
      "       Name  Age Country\n",
      "0    Alice   25     USA\n",
      "1      Bob   30  Canada\n",
      "2  Charlie   35      UK\n",
      "\n",
      "DataFrame after Modifying Column:\n",
      "       Name   Age Country\n",
      "0    Alice  27.5     USA\n",
      "1      Bob  33.0  Canada\n",
      "2  Charlie  38.5      UK\n"
     ]
    }
   ],
   "source": [
    "# Adding a new column\n",
    "df['Country'] = ['USA', 'Canada', 'UK']\n",
    "print(\"\\nDataFrame after Adding Column:\\n\", df)\n",
    "\n",
    "# Modifying an existing column\n",
    "df['Age'] = df['Age'] * 1.1  # Increasing age by 10%\n",
    "print(\"\\nDataFrame after Modifying Column:\\n\", df)\n"
   ]
  },
  {
   "cell_type": "markdown",
   "metadata": {},
   "source": [
    "Renaming Columns"
   ]
  },
  {
   "cell_type": "code",
   "execution_count": 14,
   "metadata": {},
   "outputs": [
    {
     "name": "stdout",
     "output_type": "stream",
     "text": [
      "\n",
      "Renamed DataFrame:\n",
      "   Full Name  Age (Years) Country\n",
      "0     Alice         27.5     USA\n",
      "1       Bob         33.0  Canada\n",
      "2   Charlie         38.5      UK\n"
     ]
    }
   ],
   "source": [
    "df_renamed = df.rename(columns={'Name': 'Full Name', 'Age': 'Age (Years)'})\n",
    "print(\"\\nRenamed DataFrame:\\n\", df_renamed)\n"
   ]
  },
  {
   "cell_type": "markdown",
   "metadata": {},
   "source": [
    "### Merging and Joining DataFrames\n",
    "\n",
    "Pandas allows for merging or joining multiple DataFrames based on common columns or indices.\n",
    "\n",
    "Merging DataFrames"
   ]
  },
  {
   "cell_type": "code",
   "execution_count": 15,
   "metadata": {},
   "outputs": [
    {
     "name": "stdout",
     "output_type": "stream",
     "text": [
      "\n",
      "Merged DataFrame:\n",
      "    ID     Name         City\n",
      "0   1    Alice     New York\n",
      "1   2      Bob  Los Angeles\n",
      "2   3  Charlie      Chicago\n"
     ]
    }
   ],
   "source": [
    "# Create two DataFrames to merge\n",
    "df1 = pd.DataFrame({\n",
    "    'ID': [1, 2, 3],\n",
    "    'Name': ['Alice', 'Bob', 'Charlie']\n",
    "})\n",
    "df2 = pd.DataFrame({\n",
    "    'ID': [1, 2, 3],\n",
    "    'City': ['New York', 'Los Angeles', 'Chicago']\n",
    "})\n",
    "\n",
    "# Merging on the 'ID' column\n",
    "df_merged = pd.merge(df1, df2, on='ID')\n",
    "print(\"\\nMerged DataFrame:\\n\", df_merged)\n"
   ]
  },
  {
   "cell_type": "markdown",
   "metadata": {},
   "source": [
    "Concatenating DataFrames"
   ]
  },
  {
   "cell_type": "code",
   "execution_count": 16,
   "metadata": {},
   "outputs": [
    {
     "name": "stdout",
     "output_type": "stream",
     "text": [
      "\n",
      "Concatenated DataFrame:\n",
      "    ID     Name         City\n",
      "0   1    Alice          NaN\n",
      "1   2      Bob          NaN\n",
      "2   3  Charlie          NaN\n",
      "3   1      NaN     New York\n",
      "4   2      NaN  Los Angeles\n",
      "5   3      NaN      Chicago\n"
     ]
    }
   ],
   "source": [
    "# Concatenating DataFrames along rows (vertical concatenation)\n",
    "df_concat = pd.concat([df1, df2], axis=0, ignore_index=True)\n",
    "print(\"\\nConcatenated DataFrame:\\n\", df_concat)\n"
   ]
  },
  {
   "cell_type": "markdown",
   "metadata": {},
   "source": [
    "### Data Analysis with Pandas\n",
    "Pandas provides a range of functions to summarize and analyze data.\n",
    "\n",
    "Descriptive Statistics"
   ]
  },
  {
   "cell_type": "code",
   "execution_count": 17,
   "metadata": {},
   "outputs": [
    {
     "name": "stdout",
     "output_type": "stream",
     "text": [
      "\n",
      "Descriptive Statistics:\n",
      "          Age\n",
      "count   3.00\n",
      "mean   33.00\n",
      "std     5.50\n",
      "min    27.50\n",
      "25%    30.25\n",
      "50%    33.00\n",
      "75%    35.75\n",
      "max    38.50\n",
      "\n",
      "Mean Age: 33.0\n"
     ]
    }
   ],
   "source": [
    "# Get basic descriptive statistics (mean, min, max, etc.)\n",
    "print(\"\\nDescriptive Statistics:\\n\", df.describe())\n",
    "\n",
    "# Calculate specific statistics like the mean of the 'Age' column\n",
    "mean_age = df['Age'].mean()\n",
    "print(f\"\\nMean Age: {mean_age}\")\n"
   ]
  },
  {
   "cell_type": "markdown",
   "metadata": {},
   "source": [
    "#### Grouping Data\n",
    "\n",
    "Grouping data allows for performing aggregations on subsets of data."
   ]
  },
  {
   "cell_type": "code",
   "execution_count": 18,
   "metadata": {},
   "outputs": [
    {
     "name": "stdout",
     "output_type": "stream",
     "text": [
      "\n",
      "Grouped Data (Mean Age by Country):\n",
      " Country\n",
      "Canada    33.0\n",
      "UK        38.5\n",
      "USA       27.5\n",
      "Name: Age, dtype: float64\n"
     ]
    }
   ],
   "source": [
    "# Grouping by 'Country' and calculating the mean of 'Age'\n",
    "df_grouped = df.groupby('Country')['Age'].mean()\n",
    "print(\"\\nGrouped Data (Mean Age by Country):\\n\", df_grouped)\n"
   ]
  },
  {
   "cell_type": "markdown",
   "metadata": {},
   "source": [
    "### Data Visualization with Pandas\n",
    "Pandas integrates well with visualization libraries such as matplotlib and seaborn. We will use matplotlib here for simplicity."
   ]
  },
  {
   "cell_type": "code",
   "execution_count": 19,
   "metadata": {},
   "outputs": [
    {
     "data": {
      "image/png": "[encoded data removed]",
      "text/plain": [
       "<Figure size 640x480 with 1 Axes>"
      ]
     },
     "metadata": {},
     "output_type": "display_data"
    }
   ],
   "source": [
    "import matplotlib.pyplot as plt\n",
    "\n",
    "# Simple bar plot for the 'Age' column\n",
    "df['Age'].plot(kind='bar', title='Age Distribution', color='skyblue')\n",
    "plt.ylabel('Age')\n",
    "plt.show()\n"
   ]
  },
  {
   "cell_type": "markdown",
   "metadata": {},
   "source": [
    "### Time Series Data Handling\n",
    "Pandas provides powerful tools for working with time series data, such as resampling, date indexing, and frequency handling.\n",
    "\n",
    "Creating and Indexing Time Series"
   ]
  },
  {
   "cell_type": "code",
   "execution_count": 20,
   "metadata": {},
   "outputs": [
    {
     "name": "stdout",
     "output_type": "stream",
     "text": [
      "\n",
      "Time Series DataFrame:\n",
      "             Value\n",
      "Date             \n",
      "2024-01-01     10\n",
      "2024-01-02     20\n",
      "2024-01-03     30\n",
      "2024-01-04     40\n",
      "2024-01-05     50\n",
      "2024-01-06     60\n"
     ]
    }
   ],
   "source": [
    "# Creating a time series DataFrame\n",
    "dates = pd.date_range('2024-01-01', periods=6, freq='D')\n",
    "time_series_data = {'Date': dates, 'Value': [10, 20, 30, 40, 50, 60]}\n",
    "df_time_series = pd.DataFrame(time_series_data)\n",
    "df_time_series.set_index('Date', inplace=True)\n",
    "\n",
    "print(\"\\nTime Series DataFrame:\\n\", df_time_series)\n"
   ]
  },
  {
   "cell_type": "markdown",
   "metadata": {},
   "source": [
    "Resampling Time Series\n",
    "\n",
    "Resampling allows for aggregating or downsampling time series data.\n",
    "\n"
   ]
  },
  {
   "cell_type": "markdown",
   "metadata": {},
   "source": [
    "#### Resample data by week (sum of values per week)\n",
    "weekly_data = df_time_series.resample('W').sum()\n",
    "print(\"\\nWeekly Resampled Time Series DataFrame:\\n\", weekly_data)\n"
   ]
  },
  {
   "cell_type": "markdown",
   "metadata": {},
   "source": [
    "### Reading and Writing Data\n",
    "Pandas supports reading from and writing to various file formats like CSV, Excel, SQL, etc.\n",
    "\n",
    "Reading Data from CSV"
   ]
  },
  {
   "cell_type": "code",
   "execution_count": 21,
   "metadata": {},
   "outputs": [],
   "source": [
    "# Read data from a CSV file\n",
    "# df_from_csv = pd.read_csv('data.csv')\n"
   ]
  },
  {
   "cell_type": "markdown",
   "metadata": {},
   "source": [
    "Writing Data to CSV"
   ]
  },
  {
   "cell_type": "code",
   "execution_count": 22,
   "metadata": {},
   "outputs": [
    {
     "name": "stdout",
     "output_type": "stream",
     "text": [
      "\n",
      "DataFrame saved to 'output.csv'\n"
     ]
    }
   ],
   "source": [
    "# Save the DataFrame to a CSV file\n",
    "df.to_csv('output.csv', index=False)\n",
    "print(\"\\nDataFrame saved to 'output.csv'\")\n"
   ]
  },
  {
   "cell_type": "markdown",
   "metadata": {},
   "source": [
    "### Indexing and Subsetting Data\n",
    "Pandas allows for efficient subsetting and indexing of data based on conditions.\n",
    "\n",
    "Filtering Data"
   ]
  },
  {
   "cell_type": "code",
   "execution_count": 23,
   "metadata": {},
   "outputs": [
    {
     "name": "stdout",
     "output_type": "stream",
     "text": [
      "\n",
      "Adults (Age > 30):\n",
      "       Name   Age Country\n",
      "1      Bob  33.0  Canada\n",
      "2  Charlie  38.5      UK\n"
     ]
    }
   ],
   "source": [
    "# Filter data based on a condition\n",
    "adults = df[df['Age'] > 30]\n",
    "print(\"\\nAdults (Age > 30):\\n\", adults)\n"
   ]
  },
  {
   "cell_type": "markdown",
   "metadata": {},
   "source": [
    "Selecting Specific Columns"
   ]
  },
  {
   "cell_type": "code",
   "execution_count": 24,
   "metadata": {},
   "outputs": [
    {
     "name": "stdout",
     "output_type": "stream",
     "text": [
      "\n",
      "Name and Age Columns:\n",
      "       Name   Age\n",
      "0    Alice  27.5\n",
      "1      Bob  33.0\n",
      "2  Charlie  38.5\n"
     ]
    }
   ],
   "source": [
    "# Select only the 'Name' and 'Age' columns\n",
    "name_and_age = df[['Name', 'Age']]\n",
    "print(\"\\nName and Age Columns:\\n\", name_and_age)\n"
   ]
  },
  {
   "cell_type": "markdown",
   "metadata": {},
   "source": []
  }
 ],
 "metadata": {
  "kernelspec": {
   "display_name": ".venv",
   "language": "python",
   "name": "python3"
  },
  "language_info": {
   "codemirror_mode": {
    "name": "ipython",
    "version": 3
   },
   "file_extension": ".py",
   "mimetype": "text/x-python",
   "name": "python",
   "nbconvert_exporter": "python",
   "pygments_lexer": "ipython3",
   "version": "3.10.12"
  }
 },
 "nbformat": 4,
 "nbformat_minor": 2
}
