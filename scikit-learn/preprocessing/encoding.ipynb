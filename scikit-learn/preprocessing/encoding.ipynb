{
 "cells": [
  {
   "cell_type": "markdown",
   "metadata": {},
   "source": [
    "import"
   ]
  },
  {
   "cell_type": "code",
   "execution_count": 30,
   "metadata": {},
   "outputs": [],
   "source": [
    "import pandas as pd\n",
    "from sklearn.preprocessing import LabelEncoder, OneHotEncoder\n",
    "from sklearn.compose import ColumnTransformer\n",
    "from sklearn.preprocessing import FunctionTransformer"
   ]
  },
  {
   "cell_type": "markdown",
   "metadata": {},
   "source": [
    "Example Dataset\n",
    "\n",
    "We will use a simple example with categorical features to demonstrate encoding."
   ]
  },
  {
   "cell_type": "code",
   "execution_count": 31,
   "metadata": {},
   "outputs": [
    {
     "data": {
      "text/html": [
       "<div>\n",
       "<style scoped>\n",
       "    .dataframe tbody tr th:only-of-type {\n",
       "        vertical-align: middle;\n",
       "    }\n",
       "\n",
       "    .dataframe tbody tr th {\n",
       "        vertical-align: top;\n",
       "    }\n",
       "\n",
       "    .dataframe thead th {\n",
       "        text-align: right;\n",
       "    }\n",
       "</style>\n",
       "<table border=\"1\" class=\"dataframe\">\n",
       "  <thead>\n",
       "    <tr style=\"text-align: right;\">\n",
       "      <th></th>\n",
       "      <th>color</th>\n",
       "      <th>size</th>\n",
       "      <th>category</th>\n",
       "    </tr>\n",
       "  </thead>\n",
       "  <tbody>\n",
       "    <tr>\n",
       "      <th>0</th>\n",
       "      <td>red</td>\n",
       "      <td>S</td>\n",
       "      <td>A</td>\n",
       "    </tr>\n",
       "    <tr>\n",
       "      <th>1</th>\n",
       "      <td>blue</td>\n",
       "      <td>M</td>\n",
       "      <td>B</td>\n",
       "    </tr>\n",
       "    <tr>\n",
       "      <th>2</th>\n",
       "      <td>green</td>\n",
       "      <td>L</td>\n",
       "      <td>A</td>\n",
       "    </tr>\n",
       "    <tr>\n",
       "      <th>3</th>\n",
       "      <td>blue</td>\n",
       "      <td>M</td>\n",
       "      <td>B</td>\n",
       "    </tr>\n",
       "    <tr>\n",
       "      <th>4</th>\n",
       "      <td>green</td>\n",
       "      <td>S</td>\n",
       "      <td>A</td>\n",
       "    </tr>\n",
       "    <tr>\n",
       "      <th>5</th>\n",
       "      <td>red</td>\n",
       "      <td>L</td>\n",
       "      <td>B</td>\n",
       "    </tr>\n",
       "  </tbody>\n",
       "</table>\n",
       "</div>"
      ],
      "text/plain": [
       "   color size category\n",
       "0    red    S        A\n",
       "1   blue    M        B\n",
       "2  green    L        A\n",
       "3   blue    M        B\n",
       "4  green    S        A\n",
       "5    red    L        B"
      ]
     },
     "execution_count": 31,
     "metadata": {},
     "output_type": "execute_result"
    }
   ],
   "source": [
    "data = {\n",
    "    'color': ['red', 'blue', 'green', 'blue', 'green', 'red'],\n",
    "    'size': ['S', 'M', 'L', 'M', 'S', 'L'],\n",
    "    'category': ['A', 'B', 'A', 'B', 'A', 'B']\n",
    "}\n",
    "\n",
    "df = pd.DataFrame(data)\n",
    "df\n"
   ]
  },
  {
   "cell_type": "markdown",
   "metadata": {},
   "source": [
    "Label Encoding\n",
    "\n",
    "Label Encoding converts categorical values into integer labels. It assigns a unique integer to each category. This encoding is often used for target variables or ordinal features (where the categories have a meaningful order).\n",
    "\n",
    "Using LabelEncoder\n"
   ]
  },
  {
   "cell_type": "code",
   "execution_count": 32,
   "metadata": {},
   "outputs": [
    {
     "data": {
      "text/html": [
       "<div>\n",
       "<style scoped>\n",
       "    .dataframe tbody tr th:only-of-type {\n",
       "        vertical-align: middle;\n",
       "    }\n",
       "\n",
       "    .dataframe tbody tr th {\n",
       "        vertical-align: top;\n",
       "    }\n",
       "\n",
       "    .dataframe thead th {\n",
       "        text-align: right;\n",
       "    }\n",
       "</style>\n",
       "<table border=\"1\" class=\"dataframe\">\n",
       "  <thead>\n",
       "    <tr style=\"text-align: right;\">\n",
       "      <th></th>\n",
       "      <th>color</th>\n",
       "      <th>size</th>\n",
       "      <th>category</th>\n",
       "      <th>color_encoded</th>\n",
       "    </tr>\n",
       "  </thead>\n",
       "  <tbody>\n",
       "    <tr>\n",
       "      <th>0</th>\n",
       "      <td>red</td>\n",
       "      <td>S</td>\n",
       "      <td>A</td>\n",
       "      <td>2</td>\n",
       "    </tr>\n",
       "    <tr>\n",
       "      <th>1</th>\n",
       "      <td>blue</td>\n",
       "      <td>M</td>\n",
       "      <td>B</td>\n",
       "      <td>0</td>\n",
       "    </tr>\n",
       "    <tr>\n",
       "      <th>2</th>\n",
       "      <td>green</td>\n",
       "      <td>L</td>\n",
       "      <td>A</td>\n",
       "      <td>1</td>\n",
       "    </tr>\n",
       "    <tr>\n",
       "      <th>3</th>\n",
       "      <td>blue</td>\n",
       "      <td>M</td>\n",
       "      <td>B</td>\n",
       "      <td>0</td>\n",
       "    </tr>\n",
       "    <tr>\n",
       "      <th>4</th>\n",
       "      <td>green</td>\n",
       "      <td>S</td>\n",
       "      <td>A</td>\n",
       "      <td>1</td>\n",
       "    </tr>\n",
       "    <tr>\n",
       "      <th>5</th>\n",
       "      <td>red</td>\n",
       "      <td>L</td>\n",
       "      <td>B</td>\n",
       "      <td>2</td>\n",
       "    </tr>\n",
       "  </tbody>\n",
       "</table>\n",
       "</div>"
      ],
      "text/plain": [
       "   color size category  color_encoded\n",
       "0    red    S        A              2\n",
       "1   blue    M        B              0\n",
       "2  green    L        A              1\n",
       "3   blue    M        B              0\n",
       "4  green    S        A              1\n",
       "5    red    L        B              2"
      ]
     },
     "execution_count": 32,
     "metadata": {},
     "output_type": "execute_result"
    }
   ],
   "source": [
    "label_encoder = LabelEncoder()\n",
    "\n",
    "df['color_encoded'] = label_encoder.fit_transform(df['color'])\n",
    "df\n"
   ]
  },
  {
   "cell_type": "markdown",
   "metadata": {},
   "source": [
    "One-Hot Encoding\n",
    "\n",
    "One-Hot Encoding transforms categorical variables into a binary matrix (one column per category) and is used when there is no ordinal relationship between categories (e.g., for nominal variables like colors, city names).\n",
    "\n",
    "Using OneHotEncoder"
   ]
  },
  {
   "cell_type": "code",
   "execution_count": 33,
   "metadata": {},
   "outputs": [
    {
     "name": "stdout",
     "output_type": "stream",
     "text": [
      "   color size category  color_encoded  color_blue  color_green  color_red  \\\n",
      "0    red    S        A              2         0.0          0.0        1.0   \n",
      "1   blue    M        B              0         1.0          0.0        0.0   \n",
      "2  green    L        A              1         0.0          1.0        0.0   \n",
      "3   blue    M        B              0         1.0          0.0        0.0   \n",
      "4  green    S        A              1         0.0          1.0        0.0   \n",
      "5    red    L        B              2         0.0          0.0        1.0   \n",
      "\n",
      "   size_L  size_M  size_S  category_A  category_B  \n",
      "0     0.0     0.0     1.0         1.0         0.0  \n",
      "1     0.0     1.0     0.0         0.0         1.0  \n",
      "2     1.0     0.0     0.0         1.0         0.0  \n",
      "3     0.0     1.0     0.0         0.0         1.0  \n",
      "4     0.0     0.0     1.0         1.0         0.0  \n",
      "5     1.0     0.0     0.0         0.0         1.0  \n"
     ]
    }
   ],
   "source": [
    "# Create the OneHotEncoder (no sparse=False argument)\n",
    "one_hot_encoder = OneHotEncoder()\n",
    "\n",
    "# Apply one-hot encoding on multiple columns: 'color', 'size', and 'category'\n",
    "encoded_data = one_hot_encoder.fit_transform(df[['color', 'size', 'category']])\n",
    "\n",
    "# Convert the sparse matrix into a dense array\n",
    "encoded_data = encoded_data.toarray()\n",
    "encoded_df = pd.DataFrame(encoded_data, columns=one_hot_encoder.get_feature_names_out(['color', 'size', 'category']))\n",
    "\n",
    "# Concatenate the one-hot encoded columns with the original DataFrame\n",
    "df_encoded = pd.concat([df, encoded_df], axis=1)\n",
    "\n",
    "# Display the transformed dataset\n",
    "print(df_encoded)"
   ]
  },
  {
   "cell_type": "markdown",
   "metadata": {},
   "source": [
    "Handling Multiple Columns with ColumnTransformer\n",
    "\n",
    "If you need to encode multiple categorical columns at once, you can use the ColumnTransformer to apply different preprocessing techniques to different columns.\n",
    "\n",
    "Using ColumnTransformer"
   ]
  },
  {
   "cell_type": "code",
   "execution_count": 34,
   "metadata": {},
   "outputs": [
    {
     "name": "stdout",
     "output_type": "stream",
     "text": [
      "  color__color_blue color__color_green color__color_red remainder__size  \\\n",
      "0               0.0                0.0              1.0               S   \n",
      "1               1.0                0.0              0.0               M   \n",
      "2               0.0                1.0              0.0               L   \n",
      "3               1.0                0.0              0.0               M   \n",
      "4               0.0                1.0              0.0               S   \n",
      "5               0.0                0.0              1.0               L   \n",
      "\n",
      "  remainder__category remainder__color_encoded  category  \n",
      "0                   A                        2         0  \n",
      "1                   B                        0         1  \n",
      "2                   A                        1         0  \n",
      "3                   B                        0         1  \n",
      "4                   A                        1         0  \n",
      "5                   B                        2         1  \n"
     ]
    }
   ],
   "source": [
    "from sklearn.compose import ColumnTransformer\n",
    "from sklearn.preprocessing import OneHotEncoder, LabelEncoder\n",
    "import pandas as pd\n",
    "\n",
    "# Create a ColumnTransformer to apply one-hot encoding to 'color' column\n",
    "preprocessor = ColumnTransformer(\n",
    "    transformers=[('color', OneHotEncoder(), ['color'])],\n",
    "    remainder='passthrough'  # Keep other columns unchanged\n",
    ")\n",
    "\n",
    "# Apply one-hot encoding on the 'color' column\n",
    "df_encoded = preprocessor.fit_transform(df)\n",
    "\n",
    "# Get the feature names generated by OneHotEncoder\n",
    "encoded_columns = preprocessor.get_feature_names_out()\n",
    "\n",
    "# Convert the result to DataFrame\n",
    "df_encoded = pd.DataFrame(df_encoded, columns=encoded_columns)\n",
    "\n",
    "# Apply LabelEncoder to the 'category' column\n",
    "label_encoder = LabelEncoder()\n",
    "df_encoded['category'] = label_encoder.fit_transform(df['category'])\n",
    "\n",
    "# Display the transformed dataset\n",
    "print(df_encoded)\n"
   ]
  },
  {
   "cell_type": "markdown",
   "metadata": {},
   "source": [
    "Inverse Transformation\n",
    "\n",
    "After encoding, you may want to map the numerical data back to the original categorical values. You can use the inverse_transform() method of LabelEncoder or OneHotEncoder to do this.\n",
    "\n",
    "Inverse Transformation (LabelEncoder)"
   ]
  },
  {
   "cell_type": "code",
   "execution_count": 35,
   "metadata": {},
   "outputs": [
    {
     "name": "stdout",
     "output_type": "stream",
     "text": [
      "   color  color_encoded color_original\n",
      "0    red              2            red\n",
      "1   blue              0           blue\n",
      "2  green              1          green\n",
      "3   blue              0           blue\n",
      "4  green              1          green\n",
      "5    red              2            red\n"
     ]
    }
   ],
   "source": [
    "df['color_encoded'] = label_encoder.fit_transform(df['color'])\n",
    "\n",
    "# Now, to get the original labels back, use inverse_transform on the encoded column\n",
    "original_labels = label_encoder.inverse_transform(df['color_encoded'])\n",
    "\n",
    "# Add the original labels to the DataFrame\n",
    "df['color_original'] = original_labels\n",
    "\n",
    "print(df[['color', 'color_encoded', 'color_original']])"
   ]
  },
  {
   "cell_type": "markdown",
   "metadata": {},
   "source": [
    "Summary of Encoding Techniques\n",
    "\n",
    "Label Encoding: Converts categorical values into integer labels. This method is useful when the categorical feature has an ordinal relationship (i.e., there is a meaningful order to the categories, like 'Low', 'Medium', 'High').\n",
    "\n",
    "One-Hot Encoding: Converts categorical values into a binary matrix. This method is appropriate when the categorical feature has no ordinal relationship (i.e., the categories are nominal).\n",
    "\n",
    "ColumnTransformer: A convenient tool to apply different encoding strategies to different columns of the dataset at once."
   ]
  }
 ],
 "metadata": {
  "kernelspec": {
   "display_name": ".venv",
   "language": "python",
   "name": "python3"
  },
  "language_info": {
   "codemirror_mode": {
    "name": "ipython",
    "version": 3
   },
   "file_extension": ".py",
   "mimetype": "text/x-python",
   "name": "python",
   "nbconvert_exporter": "python",
   "pygments_lexer": "ipython3",
   "version": "3.10.12"
  }
 },
 "nbformat": 4,
 "nbformat_minor": 2
}
